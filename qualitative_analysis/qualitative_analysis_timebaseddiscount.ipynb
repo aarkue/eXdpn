{
 "cells": [
  {
   "cell_type": "markdown",
   "metadata": {},
   "source": [
    "## Qualitative Analysis for Event Log with Time-Based Discount"
   ]
  },
  {
   "cell_type": "markdown",
   "metadata": {},
   "source": [
    "Implemented decision points with guards:\n",
    "\n",
    "- Request Manager or Standard Approval:\n",
    "    - Request Manager Approval if total_price >= 800\n",
    "    - Request Standard Approval if total_price <= 1000\n",
    "- Manager Rejection or Approval:\n",
    "    - Manager Rejection if total_price >= 400 and random_exponential(100, 200) > 120\n",
    "    - Otherwise Manager Approval\n",
    "- Standard Rejection or Approval:\n",
    "    - Standard Rejection if total_price >= 400 and random_exponential(100, 200) > 120\n",
    "    - Otherwise Standard Approval\n",
    "- Send Order to Vendor or Send Order to Vendor with Discount:\n",
    "    - Send Order to Vendor if the delay since the previous event is smaller than some threshold\n",
    "    - Send Order to Vendor with Discount if the delay since the previous event is larger than some threshold\n",
    "    - This threshold depends on whether or not the order was approved by a manager (i.e., the previous event name)"
   ]
  },
  {
   "cell_type": "code",
   "execution_count": null,
   "metadata": {},
   "outputs": [],
   "source": [
    "import os\n",
    "from exdpn.util import import_log\n",
    "from exdpn.data_petri_net import data_petri_net\n",
    "from exdpn.guards import ML_Technique\n",
    "from exdpn.util import extend_event_log_with_preceding_event_delay"
   ]
  },
  {
   "cell_type": "markdown",
   "metadata": {},
   "source": [
    "#### First, look which machine learning guard has the highest performance for a decision point."
   ]
  },
  {
   "cell_type": "code",
   "execution_count": null,
   "metadata": {},
   "outputs": [],
   "source": [
    "event_log_time_based_discount = import_log(os.path.join(os.getcwd(), '..', 'datasets', 'p2p_with_time_based_discount.xes'))\n",
    "extend_event_log_with_preceding_event_delay(event_log_time_based_discount, 'delay')\n",
    "dpn_time_based_discount = data_petri_net.Data_Petri_Net(event_log = event_log_time_based_discount, \n",
    "                                                  event_level_attributes = ['item_category','item_id','item_amount','supplier','total_price','delay'],\n",
    "                                                  hyperparameters={ML_Technique.NN: {'hidden_layer_sizes': (10, 10)},\n",
    "                                                                        ML_Technique.DT: {'min_samples_split': 0.1,\n",
    "                                                                                          'min_samples_leaf': 0.1,\n",
    "                                                                                          'ccp_alpha': 0.1},\n",
    "                                                                        ML_Technique.LR: {\"C\": 0.5},\n",
    "                                                                        ML_Technique.SVM: {\"C\": 0.5}},\n",
    "                                                  verbose = False)\n",
    "# In the above, we have changed the `ccp_alpha` hyperparameter for the decision tree guard.\n",
    "# This is done since the target class for the \"Send Order to Vendor or Send Order to Vendor with Discount\"\n",
    "# decision point is quite unbalanced. The DT classifier would be too general for this decision point\n",
    "# using the standard hyperparameters\n",
    "\n",
    "decision_points = list(dpn_time_based_discount.decision_points)\n",
    "decision_points"
   ]
  },
  {
   "cell_type": "code",
   "execution_count": null,
   "metadata": {},
   "outputs": [],
   "source": [
    "print(\"Decision point: \", decision_points[0])\n",
    "dpn_time_based_discount.guard_manager_per_place[decision_points[0]].get_comparison_plot()\n",
    "best_guard = dpn_time_based_discount.get_guard_at_place(decision_points[0])\n",
    "print(\"Best guard:\", best_guard)"
   ]
  },
  {
   "cell_type": "code",
   "execution_count": null,
   "metadata": {},
   "outputs": [],
   "source": [
    "print(\"Decision point: \", decision_points[1])\n",
    "dpn_time_based_discount.guard_manager_per_place[decision_points[1]].get_comparison_plot()\n",
    "best_guard = dpn_time_based_discount.get_guard_at_place(decision_points[1])\n",
    "print(\"Best guard:\", best_guard)"
   ]
  },
  {
   "cell_type": "code",
   "execution_count": null,
   "metadata": {},
   "outputs": [],
   "source": [
    "print(\"Decision point: \", decision_points[2])\n",
    "dpn_time_based_discount.guard_manager_per_place[decision_points[2]].get_comparison_plot()\n",
    "best_guard = dpn_time_based_discount.get_guard_at_place(decision_points[2])\n",
    "print(\"Best guard:\", best_guard)"
   ]
  },
  {
   "cell_type": "code",
   "execution_count": null,
   "metadata": {},
   "outputs": [],
   "source": [
    "print(\"Decision point: \", decision_points[3])\n",
    "dpn_time_based_discount.guard_manager_per_place[decision_points[3]].get_comparison_plot()\n",
    "best_guard = dpn_time_based_discount.get_guard_at_place(decision_points[3])\n",
    "print(\"Best guard:\", best_guard)"
   ]
  },
  {
   "cell_type": "markdown",
   "metadata": {},
   "source": [
    "### Decision Tree"
   ]
  },
  {
   "cell_type": "code",
   "execution_count": null,
   "metadata": {},
   "outputs": [],
   "source": [
    "print(\"Decision point: \", decision_points[0])\n",
    "dt_guard = dpn_time_based_discount.guard_manager_per_place[decision_points[0]].guards_list[ML_Technique.DT]\n",
    "if dt_guard.is_explainable():\n",
    "    dt_guard.get_explainable_representation()"
   ]
  },
  {
   "cell_type": "code",
   "execution_count": null,
   "metadata": {},
   "outputs": [],
   "source": [
    "print(\"Decision point: \", decision_points[1])\n",
    "dt_guard = dpn_time_based_discount.guard_manager_per_place[decision_points[1]].guards_list[ML_Technique.DT]\n",
    "if dt_guard.is_explainable():\n",
    "    dt_guard.get_explainable_representation()"
   ]
  },
  {
   "cell_type": "code",
   "execution_count": null,
   "metadata": {},
   "outputs": [],
   "source": [
    "print(\"Decision point: \", decision_points[1])\n",
    "dt_guard = dpn_time_based_discount.guard_manager_per_place[decision_points[1]].guards_list[ML_Technique.DT]\n",
    "if dt_guard.is_explainable():\n",
    "    dt_guard.get_explainable_representation()"
   ]
  },
  {
   "cell_type": "code",
   "execution_count": null,
   "metadata": {},
   "outputs": [],
   "source": [
    "print(\"Decision point: \", decision_points[3])\n",
    "dt_guard = dpn_time_based_discount.guard_manager_per_place[decision_points[3]].guards_list[ML_Technique.DT]\n",
    "if dt_guard.is_explainable():\n",
    "    dt_guard.get_explainable_representation()"
   ]
  },
  {
   "cell_type": "markdown",
   "metadata": {},
   "source": [
    "### Neural Network"
   ]
  },
  {
   "cell_type": "code",
   "execution_count": null,
   "metadata": {},
   "outputs": [],
   "source": [
    "print(\"Decision point: \", decision_points[0])\n",
    "nn_guard = dpn_time_based_discount.guard_manager_per_place[decision_points[0]].guards_list[ML_Technique.NN]\n",
    "if nn_guard.is_explainable():\n",
    "    # use sample of test data to speed up computation of explainable representation\n",
    "    sampled_test_data = dpn_time_based_discount.guard_manager_per_place[decision_points[0]].X_test.sample(n = min(100, len(dpn_time_based_discount.guard_manager_per_place[decision_points[0]].X_test)))\n",
    "    nn_guard.get_explainable_representation(sampled_test_data)"
   ]
  },
  {
   "cell_type": "code",
   "execution_count": null,
   "metadata": {},
   "outputs": [],
   "source": [
    "print(\"Decision point: \", decision_points[1])\n",
    "nn_guard = dpn_time_based_discount.guard_manager_per_place[decision_points[1]].guards_list[ML_Technique.NN]\n",
    "if nn_guard.is_explainable():\n",
    "    # use sample of test data to speed up computation of explainable representation\n",
    "    sampled_test_data = dpn_time_based_discount.guard_manager_per_place[decision_points[1]].X_test.sample(n = min(100, len(dpn_time_based_discount.guard_manager_per_place[decision_points[1]].X_test)))\n",
    "    nn_guard.get_explainable_representation(sampled_test_data)"
   ]
  },
  {
   "cell_type": "code",
   "execution_count": null,
   "metadata": {},
   "outputs": [],
   "source": [
    "print(\"Decision point: \", decision_points[2])\n",
    "nn_guard = dpn_time_based_discount.guard_manager_per_place[decision_points[2]].guards_list[ML_Technique.NN]\n",
    "if nn_guard.is_explainable():\n",
    "    # use sample of test data to speed up computation of explainable representation\n",
    "    sampled_test_data = dpn_time_based_discount.guard_manager_per_place[decision_points[2]].X_test.sample(n = min(100, len(dpn_time_based_discount.guard_manager_per_place[decision_points[2]].X_test)))\n",
    "    nn_guard.get_explainable_representation(sampled_test_data)"
   ]
  },
  {
   "cell_type": "code",
   "execution_count": null,
   "metadata": {},
   "outputs": [],
   "source": [
    "print(\"Decision point: \", decision_points[3])\n",
    "nn_guard = dpn_time_based_discount.guard_manager_per_place[decision_points[3]].guards_list[ML_Technique.NN]\n",
    "if nn_guard.is_explainable():\n",
    "    # use sample of test data to speed up computation of explainable representation\n",
    "    sampled_test_data = dpn_time_based_discount.guard_manager_per_place[decision_points[3]].X_test.sample(n = min(100, len(dpn_time_based_discount.guard_manager_per_place[decision_points[3]].X_test)))\n",
    "    nn_guard.get_explainable_representation(sampled_test_data)"
   ]
  },
  {
   "cell_type": "markdown",
   "metadata": {},
   "source": [
    "### Support Vector Machine"
   ]
  },
  {
   "cell_type": "code",
   "execution_count": null,
   "metadata": {},
   "outputs": [],
   "source": [
    "print(\"Decision point: \", decision_points[0])\n",
    "svm_guard = dpn_time_based_discount.guard_manager_per_place[decision_points[0]].guards_list[ML_Technique.SVM]\n",
    "if svm_guard.is_explainable():\n",
    "    svm_guard.get_explainable_representation(dpn_time_based_discount.guard_manager_per_place[decision_points[0]].X_test)"
   ]
  },
  {
   "cell_type": "code",
   "execution_count": null,
   "metadata": {},
   "outputs": [],
   "source": [
    "print(\"Decision point: \", decision_points[1])\n",
    "svm_guard = dpn_time_based_discount.guard_manager_per_place[decision_points[1]].guards_list[ML_Technique.SVM]\n",
    "if svm_guard.is_explainable():\n",
    "    svm_guard.get_explainable_representation(dpn_time_based_discount.guard_manager_per_place[decision_points[1]].X_test)"
   ]
  },
  {
   "cell_type": "code",
   "execution_count": null,
   "metadata": {},
   "outputs": [],
   "source": [
    "print(\"Decision point: \", decision_points[2])\n",
    "svm_guard = dpn_time_based_discount.guard_manager_per_place[decision_points[2]].guards_list[ML_Technique.SVM]\n",
    "if svm_guard.is_explainable():\n",
    "    svm_guard.get_explainable_representation(dpn_time_based_discount.guard_manager_per_place[decision_points[2]].X_test)"
   ]
  },
  {
   "cell_type": "code",
   "execution_count": null,
   "metadata": {},
   "outputs": [],
   "source": [
    "print(\"Decision point: \", decision_points[3])\n",
    "svm_guard = dpn_time_based_discount.guard_manager_per_place[decision_points[3]].guards_list[ML_Technique.SVM]\n",
    "if svm_guard.is_explainable():\n",
    "    svm_guard.get_explainable_representation(dpn_time_based_discount.guard_manager_per_place[decision_points[3]].X_test)"
   ]
  },
  {
   "cell_type": "markdown",
   "metadata": {},
   "source": [
    "### Logistic Regression"
   ]
  },
  {
   "cell_type": "code",
   "execution_count": null,
   "metadata": {},
   "outputs": [],
   "source": [
    "print(\"Decision point: \", decision_points[0])\n",
    "lr_guard = dpn_time_based_discount.guard_manager_per_place[decision_points[0]].guards_list[ML_Technique.LR]\n",
    "if lr_guard.is_explainable():\n",
    "    lr_guard.get_explainable_representation(dpn_time_based_discount.guard_manager_per_place[decision_points[0]].X_test)"
   ]
  },
  {
   "cell_type": "code",
   "execution_count": null,
   "metadata": {},
   "outputs": [],
   "source": [
    "print(\"Decision point: \", decision_points[1])\n",
    "lr_guard = dpn_time_based_discount.guard_manager_per_place[decision_points[1]].guards_list[ML_Technique.LR]\n",
    "if lr_guard.is_explainable():\n",
    "    lr_guard.get_explainable_representation(dpn_time_based_discount.guard_manager_per_place[decision_points[1]].X_test)"
   ]
  },
  {
   "cell_type": "code",
   "execution_count": null,
   "metadata": {},
   "outputs": [],
   "source": [
    "print(\"Decision point: \", decision_points[2])\n",
    "lr_guard = dpn_time_based_discount.guard_manager_per_place[decision_points[2]].guards_list[ML_Technique.LR]\n",
    "if lr_guard.is_explainable():\n",
    "    lr_guard.get_explainable_representation(dpn_time_based_discount.guard_manager_per_place[decision_points[2]].X_test)"
   ]
  },
  {
   "cell_type": "code",
   "execution_count": null,
   "metadata": {},
   "outputs": [],
   "source": [
    "print(\"Decision point: \", decision_points[3])\n",
    "lr_guard = dpn_time_based_discount.guard_manager_per_place[decision_points[3]].guards_list[ML_Technique.LR]\n",
    "if lr_guard.is_explainable():\n",
    "    lr_guard.get_explainable_representation(dpn_time_based_discount.guard_manager_per_place[decision_points[3]].X_test)"
   ]
  },
  {
   "cell_type": "markdown",
   "metadata": {},
   "source": [
    "### Summary Event Log with Time-Based Discount: - needs to be update when implementations are all done -\n",
    "\n",
    "- Request Manager or Standard Approval (similar to Event Log without randomness):  \n",
    "Only the Decision Tree guard models the true underlying guard. The split to classify the date samples is total_price <= 897. For the other three machine learning techniques the feature attribute item_amount has a huge impact on the model prediction, this attribute is correlated with total_price.\n",
    "\n",
    "- Manager Rejection or Approval (similar to Event Log without randomness):  \n",
    "All machine learning techniques have problems modeling the true underlying guard. We can see that the Support Vector Machine guard again uses item_amout for its prediction. Logistic Regression guard seems to pick up noise instead of the true underlying guard. But it is possible that the features with the most impact correlate with the total_price. For the Neural Network guard all feature attributes only have a very small impact on the model prediction, thus the plot is empty.\n",
    "\n",
    "- Standard Rejection or Approval (similar to Event Log without randomness):  \n",
    "Again, all techniques struggle to model the true underlying guard. Only for the Logistic Regression guard total_price is the feature attribute with the highest impact. The Support Vector Machine guard seems to pick up noise instead of the true underlying guard. But it could also be possible that the features with the most impact correlate with the total_price (e.g., maybe \"Office Supplies\" often have a total_price >= or < 500). For the Neural Network guard all feature attributes only have a very small impact on the model prediction, thus the plot is empty.\n",
    "\n",
    "- Send Order to Vendor or Send Order to Vendor with Discount:  \n",
    "All models show that the event-level delay attribute has the greatest impact on the classification. For all models but the decision tree, we can observe that the previous path in the case (i.e., if the order went through the standard or the manager approval \"route\") was also among the high impact attributes. This makes sense since the concrete delay threshold at which an order with a discount is issued depends on this information. It is to be noted that the default hyperparameters for the decision tree classifier lead to an underfitting model due to pruning.\n",
    "\n",
    "Overall, all machine learning techniques have their problems modeling the true underlying behavior of the guard if the decisions are partly random. But we can also see, that for example the Decision Tree is at advantage for modeling a binary numeric decision with some overlapping, while the other three techniques are able to detect some correlation between other feature attributes and the feature attribute used in the true guard. All four machine learning guards achieve high performance scores measures using F1-score as seen in the comparision plots.\n"
   ]
  }
 ],
 "metadata": {
  "kernelspec": {
   "display_name": "Python 3.10.4 64-bit",
   "language": "python",
   "name": "python3"
  },
  "language_info": {
   "codemirror_mode": {
    "name": "ipython",
    "version": 3
   },
   "file_extension": ".py",
   "mimetype": "text/x-python",
   "name": "python",
   "nbconvert_exporter": "python",
   "pygments_lexer": "ipython3",
   "version": "3.10.4"
  },
  "orig_nbformat": 4,
  "vscode": {
   "interpreter": {
    "hash": "a865a9a6dc066b9b086b6113af50d5556f0683d5160aa9e6a06c9fc078961965"
   }
  }
 },
 "nbformat": 4,
 "nbformat_minor": 2
}
