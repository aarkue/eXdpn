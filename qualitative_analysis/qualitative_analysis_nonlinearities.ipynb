{
 "cells": [
  {
   "cell_type": "markdown",
   "metadata": {},
   "source": [
    "## Qualitative Analysis for Event Log with Nonlinearities"
   ]
  },
  {
   "cell_type": "markdown",
   "metadata": {},
   "source": [
    "Implemented decision points with guards:\n",
    "- Request Manager or Standard Approval:\n",
    "    - Request Manager Approval if total_price >= 600 or supplier is \"Dunder Mifflin\"\n",
    "    - Request Standard Approval if total_price <= 1200\n",
    "- Manager Rejection or Approval:\n",
    "    - Manager Rejection if total_price >= 500 and item_amount mod 2 == 1\n",
    "    - No Guard for Manager Approval \n",
    "- Standard Rejection or Approval:\n",
    "    - Standard Rejection if total_price >= 500 and item_amount mod 2 == 1\n",
    "    - No Guard for Standard Approval \n",
    "- Are the goods fine or damaged?\n",
    "    - Goods Damaged if item_amount^3 > total_price\n",
    "    - Goods Fine if item_amount^3 <= total_price\n",
    "- What happens if the goods are fine?\n",
    "    - Pay Invoice (no Guard, but dependent on previous attivities: if Goods Fine and Receive Invoice)\n",
    "    - Cancel Order (no Guard, but dependent on previous attivities: if Goods Fine and either Revocation Costumer or Revocation Vendor)\n",
    "- What happens after Receive Invoice?\n",
    "    - Revocation Costumer if supplierMap(supplier) >= item_amount where supplierMap maps \"Saturn\" to 10, \"Dunder Mifflin\" to 20, \"Staples\" to 30 and everything else to 40\n",
    "    - Recovation Vendor if total_price/item_amount < 100 \n",
    "    - Pay Invoice (no Guard, but dependent on previous attivities: if Receive Invoice and Goods Fine)\n",
    "    - Cancel Payment (no Guard, but dependent on previous attivities: if Receive Invoice and Goods Damaged)"
   ]
  },
  {
   "cell_type": "code",
   "execution_count": null,
   "metadata": {},
   "outputs": [],
   "source": [
    "import os\n",
    "from exdpn.util import import_log\n",
    "from exdpn.data_petri_net import data_petri_net\n",
    "from exdpn.guards import ML_Technique"
   ]
  },
  {
   "cell_type": "markdown",
   "metadata": {},
   "source": [
    "#### First, look which machine learning guard has the highest performance for a decision point."
   ]
  },
  {
   "cell_type": "code",
   "execution_count": null,
   "metadata": {},
   "outputs": [],
   "source": [
    "event_log_nonlinearities = import_log(os.path.join(os.getcwd(), \"..\", \"datasets\", \"p2p_nonlinearities.xes\"))\n",
    "dpn_nonlinearities = data_petri_net.Data_Petri_Net(event_log = event_log_nonlinearities,\n",
    "                                                   event_level_attributes = [\"item_category\", \"item_id\", \"item_amount\", \"supplier\", \"total_price\"],\n",
    "                                                   verbose = False)\n",
    "# delay als event attribute\n",
    "decision_points = list(dpn_nonlinearities.decision_points)\n",
    "decision_points"
   ]
  },
  {
   "cell_type": "code",
   "execution_count": null,
   "metadata": {},
   "outputs": [],
   "source": [
    "print(\"Decision point: \", decision_points[0])\n",
    "dpn_nonlinearities.guard_manager_per_place[decision_points[0]].get_comparison_plot()\n",
    "best_guard = dpn_nonlinearities.get_guard_at_place(decision_points[0])\n",
    "print(\"Best guard:\", best_guard)"
   ]
  },
  {
   "cell_type": "code",
   "execution_count": null,
   "metadata": {},
   "outputs": [],
   "source": [
    "print(\"Decision point: \", decision_points[1])\n",
    "dpn_nonlinearities.guard_manager_per_place[decision_points[1]].get_comparison_plot()\n",
    "best_guard = dpn_nonlinearities.get_guard_at_place(decision_points[1])\n",
    "print(\"Best guard:\", best_guard)"
   ]
  },
  {
   "cell_type": "code",
   "execution_count": null,
   "metadata": {},
   "outputs": [],
   "source": [
    "print(\"Decision point: \", decision_points[2])\n",
    "dpn_nonlinearities.guard_manager_per_place[decision_points[2]].get_comparison_plot()\n",
    "best_guard = dpn_nonlinearities.get_guard_at_place(decision_points[2])\n",
    "print(\"Best guard:\", best_guard)"
   ]
  },
  {
   "cell_type": "code",
   "execution_count": null,
   "metadata": {},
   "outputs": [],
   "source": [
    "print(\"Decision point: \", decision_points[3])\n",
    "dpn_nonlinearities.guard_manager_per_place[decision_points[3]].get_comparison_plot()\n",
    "best_guard = dpn_nonlinearities.get_guard_at_place(decision_points[3])\n",
    "print(\"Best guard:\", best_guard)"
   ]
  },
  {
   "cell_type": "code",
   "execution_count": null,
   "metadata": {},
   "outputs": [],
   "source": [
    "print(\"Decision point: \", decision_points[4])\n",
    "dpn_nonlinearities.guard_manager_per_place[decision_points[4]].get_comparison_plot()\n",
    "best_guard = dpn_nonlinearities.get_guard_at_place(decision_points[4])\n",
    "print(\"Best guard:\", best_guard)"
   ]
  },
  {
   "cell_type": "code",
   "execution_count": null,
   "metadata": {},
   "outputs": [],
   "source": [
    "print(\"Decision point: \", decision_points[5])\n",
    "dpn_nonlinearities.guard_manager_per_place[decision_points[5]].get_comparison_plot()\n",
    "best_guard = dpn_nonlinearities.get_guard_at_place(decision_points[5])\n",
    "print(\"Best guard:\", best_guard)"
   ]
  },
  {
   "cell_type": "markdown",
   "metadata": {},
   "source": [
    "### Decision Tree"
   ]
  },
  {
   "cell_type": "code",
   "execution_count": null,
   "metadata": {},
   "outputs": [],
   "source": [
    "print(\"Decision point: \", decision_points[0])\n",
    "dt_guard = dpn_nonlinearities.guard_manager_per_place[decision_points[0]].guards_list[ML_Technique.DT]\n",
    "if dt_guard.is_explainable():\n",
    "    dt_guard.get_explainable_representation()"
   ]
  },
  {
   "cell_type": "code",
   "execution_count": null,
   "metadata": {},
   "outputs": [],
   "source": [
    "print(\"Decision point: \", decision_points[1])\n",
    "dt_guard = dpn_nonlinearities.guard_manager_per_place[decision_points[1]].guards_list[ML_Technique.DT]\n",
    "if dt_guard.is_explainable():\n",
    "    dt_guard.get_explainable_representation()"
   ]
  },
  {
   "cell_type": "code",
   "execution_count": null,
   "metadata": {},
   "outputs": [],
   "source": [
    "print(\"Decision point: \", decision_points[2])\n",
    "dt_guard = dpn_nonlinearities.guard_manager_per_place[decision_points[2]].guards_list[ML_Technique.DT]\n",
    "if dt_guard.is_explainable():\n",
    "    dt_guard.get_explainable_representation()"
   ]
  },
  {
   "cell_type": "code",
   "execution_count": null,
   "metadata": {},
   "outputs": [],
   "source": [
    "print(\"Decision point: \", decision_points[3])\n",
    "dt_guard = dpn_nonlinearities.guard_manager_per_place[decision_points[3]].guards_list[ML_Technique.DT]\n",
    "if dt_guard.is_explainable():\n",
    "    dt_guard.get_explainable_representation()"
   ]
  },
  {
   "cell_type": "code",
   "execution_count": null,
   "metadata": {},
   "outputs": [],
   "source": [
    "print(\"Decision point: \", decision_points[4])\n",
    "dt_guard = dpn_nonlinearities.guard_manager_per_place[decision_points[4]].guards_list[ML_Technique.DT]\n",
    "if dt_guard.is_explainable():\n",
    "    dt_guard.get_explainable_representation()"
   ]
  },
  {
   "cell_type": "code",
   "execution_count": null,
   "metadata": {},
   "outputs": [],
   "source": [
    "print(\"Decision point: \", decision_points[5])\n",
    "dt_guard = dpn_nonlinearities.guard_manager_per_place[decision_points[5]].guards_list[ML_Technique.DT]\n",
    "if dt_guard.is_explainable():\n",
    "    dt_guard.get_explainable_representation()"
   ]
  },
  {
   "cell_type": "markdown",
   "metadata": {},
   "source": [
    "### Neural Network"
   ]
  },
  {
   "cell_type": "code",
   "execution_count": null,
   "metadata": {},
   "outputs": [],
   "source": [
    "print(\"Decision point: \", decision_points[0])\n",
    "nn_guard = dpn_nonlinearities.guard_manager_per_place[decision_points[0]].guards_list[ML_Technique.NN]\n",
    "if nn_guard.is_explainable():\n",
    "    # use sample of test data to speed up computation of explainable representation\n",
    "    sampled_test_data = dpn_nonlinearities.guard_manager_per_place[decision_points[0]].X_test.sample(n = min(100, len(dpn_nonlinearities.guard_manager_per_place[decision_points[0]].X_test)))\n",
    "    nn_guard.get_explainable_representation(sampled_test_data)"
   ]
  },
  {
   "cell_type": "code",
   "execution_count": null,
   "metadata": {},
   "outputs": [],
   "source": [
    "print(\"Decision point: \", decision_points[1])\n",
    "nn_guard = dpn_nonlinearities.guard_manager_per_place[decision_points[1]].guards_list[ML_Technique.NN]\n",
    "if nn_guard.is_explainable():\n",
    "    # use sample of test data to speed up computation of explainable representation\n",
    "    sampled_test_data = dpn_nonlinearities.guard_manager_per_place[decision_points[1]].X_test.sample(n = min(100, len(dpn_nonlinearities.guard_manager_per_place[decision_points[1]].X_test)))\n",
    "    nn_guard.get_explainable_representation(sampled_test_data)"
   ]
  },
  {
   "cell_type": "code",
   "execution_count": null,
   "metadata": {},
   "outputs": [],
   "source": [
    "print(\"Decision point: \", decision_points[2])\n",
    "nn_guard = dpn_nonlinearities.guard_manager_per_place[decision_points[2]].guards_list[ML_Technique.NN]\n",
    "if nn_guard.is_explainable():\n",
    "    # use sample of test data to speed up computation of explainable representation\n",
    "    sampled_test_data = dpn_nonlinearities.guard_manager_per_place[decision_points[2]].X_test.sample(n = min(100, len(dpn_nonlinearities.guard_manager_per_place[decision_points[2]].X_test)))\n",
    "    nn_guard.get_explainable_representation(sampled_test_data)"
   ]
  },
  {
   "cell_type": "code",
   "execution_count": null,
   "metadata": {},
   "outputs": [],
   "source": [
    "print(\"Decision point: \", decision_points[3])\n",
    "nn_guard = dpn_nonlinearities.guard_manager_per_place[decision_points[3]].guards_list[ML_Technique.NN]\n",
    "if nn_guard.is_explainable():\n",
    "    # use sample of test data to speed up computation of explainable representation\n",
    "    sampled_test_data = dpn_nonlinearities.guard_manager_per_place[decision_points[3]].X_test.sample(n = min(100, len(dpn_nonlinearities.guard_manager_per_place[decision_points[3]].X_test)))\n",
    "    nn_guard.get_explainable_representation(sampled_test_data)"
   ]
  },
  {
   "cell_type": "code",
   "execution_count": null,
   "metadata": {},
   "outputs": [],
   "source": [
    "print(\"Decision point: \", decision_points[4])\n",
    "nn_guard = dpn_nonlinearities.guard_manager_per_place[decision_points[4]].guards_list[ML_Technique.NN]\n",
    "if nn_guard.is_explainable():\n",
    "    # use sample of test data to speed up computation of explainable representation\n",
    "    sampled_test_data = dpn_nonlinearities.guard_manager_per_place[decision_points[4]].X_test.sample(n = min(100, len(dpn_nonlinearities.guard_manager_per_place[decision_points[4]].X_test)))\n",
    "    nn_guard.get_explainable_representation(sampled_test_data)"
   ]
  },
  {
   "cell_type": "code",
   "execution_count": null,
   "metadata": {},
   "outputs": [],
   "source": [
    "print(\"Decision point: \", decision_points[5])\n",
    "nn_guard = dpn_nonlinearities.guard_manager_per_place[decision_points[5]].guards_list[ML_Technique.NN]\n",
    "if nn_guard.is_explainable():\n",
    "    # use sample of test data to speed up computation of explainable representation\n",
    "    sampled_test_data = dpn_nonlinearities.guard_manager_per_place[decision_points[4]].X_test.sample(n = min(100, len(dpn_nonlinearities.guard_manager_per_place[decision_points[4]].X_test)))\n",
    "    nn_guard.get_explainable_representation(sampled_test_data)"
   ]
  },
  {
   "cell_type": "markdown",
   "metadata": {},
   "source": [
    "### Support Vector Machine"
   ]
  },
  {
   "cell_type": "code",
   "execution_count": null,
   "metadata": {},
   "outputs": [],
   "source": [
    "print(\"Decision point: \", decision_points[0])\n",
    "svm_guard = dpn_nonlinearities.guard_manager_per_place[decision_points[0]].guards_list[ML_Technique.SVM]\n",
    "if svm_guard.is_explainable():\n",
    "    svm_guard.get_explainable_representation(dpn_nonlinearities.guard_manager_per_place[decision_points[0]].X_test)"
   ]
  },
  {
   "cell_type": "code",
   "execution_count": null,
   "metadata": {},
   "outputs": [],
   "source": [
    "print(\"Decision point: \", decision_points[1])\n",
    "svm_guard = dpn_nonlinearities.guard_manager_per_place[decision_points[1]].guards_list[ML_Technique.SVM]\n",
    "if svm_guard.is_explainable():\n",
    "    svm_guard.get_explainable_representation(dpn_nonlinearities.guard_manager_per_place[decision_points[1]].X_test)"
   ]
  },
  {
   "cell_type": "code",
   "execution_count": null,
   "metadata": {},
   "outputs": [],
   "source": [
    "print(\"Decision point: \", decision_points[2])\n",
    "svm_guard = dpn_nonlinearities.guard_manager_per_place[decision_points[2]].guards_list[ML_Technique.SVM]\n",
    "if svm_guard.is_explainable():\n",
    "    svm_guard.get_explainable_representation(dpn_nonlinearities.guard_manager_per_place[decision_points[2]].X_test)"
   ]
  },
  {
   "cell_type": "code",
   "execution_count": null,
   "metadata": {},
   "outputs": [],
   "source": [
    "print(\"Decision point: \", decision_points[3])\n",
    "svm_guard = dpn_nonlinearities.guard_manager_per_place[decision_points[3]].guards_list[ML_Technique.SVM]\n",
    "if svm_guard.is_explainable():\n",
    "    svm_guard.get_explainable_representation(dpn_nonlinearities.guard_manager_per_place[decision_points[3]].X_test)"
   ]
  },
  {
   "cell_type": "code",
   "execution_count": null,
   "metadata": {},
   "outputs": [],
   "source": [
    "print(\"Decision point: \", decision_points[4])\n",
    "svm_guard = dpn_nonlinearities.guard_manager_per_place[decision_points[4]].guards_list[ML_Technique.SVM]\n",
    "if svm_guard.is_explainable():\n",
    "    svm_guard.get_explainable_representation(dpn_nonlinearities.guard_manager_per_place[decision_points[4]].X_test)"
   ]
  },
  {
   "cell_type": "code",
   "execution_count": null,
   "metadata": {},
   "outputs": [],
   "source": [
    "print(\"Decision point: \", decision_points[5])\n",
    "svm_guard = dpn_nonlinearities.guard_manager_per_place[decision_points[5]].guards_list[ML_Technique.SVM]\n",
    "if svm_guard.is_explainable():\n",
    "    svm_guard.get_explainable_representation(dpn_nonlinearities.guard_manager_per_place[decision_points[5]].X_test)"
   ]
  },
  {
   "cell_type": "markdown",
   "metadata": {},
   "source": [
    "### Logistic Regression"
   ]
  },
  {
   "cell_type": "code",
   "execution_count": null,
   "metadata": {},
   "outputs": [],
   "source": [
    "print(\"Decision point: \", decision_points[0])\n",
    "lr_guard = dpn_nonlinearities.guard_manager_per_place[decision_points[0]].guards_list[ML_Technique.LR]\n",
    "if lr_guard.is_explainable():\n",
    "    lr_guard.get_explainable_representation(dpn_nonlinearities.guard_manager_per_place[decision_points[0]].X_test)"
   ]
  },
  {
   "cell_type": "code",
   "execution_count": null,
   "metadata": {},
   "outputs": [],
   "source": [
    "print(\"Decision point: \", decision_points[1])\n",
    "lr_guard = dpn_nonlinearities.guard_manager_per_place[decision_points[1]].guards_list[ML_Technique.LR]\n",
    "if lr_guard.is_explainable():\n",
    "    lr_guard.get_explainable_representation(dpn_nonlinearities.guard_manager_per_place[decision_points[1]].X_test)"
   ]
  },
  {
   "cell_type": "code",
   "execution_count": null,
   "metadata": {},
   "outputs": [],
   "source": [
    "print(\"Decision point: \", decision_points[2])\n",
    "lr_guard = dpn_nonlinearities.guard_manager_per_place[decision_points[2]].guards_list[ML_Technique.LR]\n",
    "if lr_guard.is_explainable():\n",
    "    lr_guard.get_explainable_representation(dpn_nonlinearities.guard_manager_per_place[decision_points[2]].X_test)"
   ]
  },
  {
   "cell_type": "code",
   "execution_count": null,
   "metadata": {},
   "outputs": [],
   "source": [
    "print(\"Decision point: \", decision_points[3])\n",
    "lr_guard = dpn_nonlinearities.guard_manager_per_place[decision_points[3]].guards_list[ML_Technique.LR]\n",
    "if lr_guard.is_explainable():\n",
    "    lr_guard.get_explainable_representation(dpn_nonlinearities.guard_manager_per_place[decision_points[3]].X_test)"
   ]
  },
  {
   "cell_type": "code",
   "execution_count": null,
   "metadata": {},
   "outputs": [],
   "source": [
    "print(\"Decision point: \", decision_points[4])\n",
    "lr_guard = dpn_nonlinearities.guard_manager_per_place[decision_points[4]].guards_list[ML_Technique.LR]\n",
    "if lr_guard.is_explainable():\n",
    "    lr_guard.get_explainable_representation(dpn_nonlinearities.guard_manager_per_place[decision_points[4]].X_test)"
   ]
  },
  {
   "cell_type": "code",
   "execution_count": null,
   "metadata": {},
   "outputs": [],
   "source": [
    "print(\"Decision point: \", decision_points[5])\n",
    "lr_guard = dpn_nonlinearities.guard_manager_per_place[decision_points[5]].guards_list[ML_Technique.LR]\n",
    "if lr_guard.is_explainable():\n",
    "    lr_guard.get_explainable_representation(dpn_nonlinearities.guard_manager_per_place[decision_points[5]].X_test)"
   ]
  },
  {
   "cell_type": "markdown",
   "metadata": {},
   "source": [
    "### Summary Event Log with Nonlinearities: - needs to be update when implementations are all done -\n",
    "\n",
    "- Request Manager or Standard Approval:  \n",
    "Only the Decision Tree guard models the true underlying guard. The split to classify the date samples is total_price <= 1208. For the other three machine learning techniques the other feature attributes like item_amount have a huge impact on the model prediction, these attributes are likely to be correlated with total_price.\n",
    "\n",
    "- Manager Rejection or Approval:  \n",
    "All machine learning techniques have problems modelling the true underlying guard. We can see that the Support Vector Machine guard and Logistic Regression guard seem to pick up noise instead of the true underlying guard. But it is possible that the features with the most impact correlate with the total_price. The Decision Tree guard assigns all samples to the same class label, which could be due to one of the stop criteria the Decision Tree Classifier uses. For the Neural Network guard all feature attributes only have a very small impact on the model prediction, thus the plot is empty.\n",
    "\n",
    "- Standard Rejection or Approval:  \n",
    "The Decision Tree guard again assigns all samples to the same class label. While the Support Vector Machine guard seems to pick up noise instead of the true underlying guard, for the Neural Network guard and Logistic Regression guard total_price has a huge impact on the model prediction.\n",
    "\n",
    "- Are the goods fine or damaged?  \n",
    "The Decision Tree guard again assigns all samples to the same class label. The Support Vector Machine guard and Logistic Regression guard are also not able to detect the true underlying guard. Only for the Neural Network guard item_amount is one of the top 3 feature attribute with the greatest impact on the model prediction.\n",
    "\n",
    "- What happens if the goods are fine?  \n",
    "All four machine learing techniques acomplish to model the true underlying guard using mainly previous activities which have impact on what happens if the goods are fine.\n",
    "\n",
    "- What happens after Receive Invoice?  \n",
    "The Decision Tree guard again assigns all samples to the same class label. The other three machine learning guards perform quite well in modeling the true underlying guard and either use possibly correlated attribute features or features that are directly associated with the true underlying guard.\n",
    "\n",
    "Overall, the different machine learning techniques perform quite differently modelling the true underlying guard if nonlinearities are at play. The modeled Decision Trees fail to model the true underlying guards most of the times, while the Neural Network guards seem to handel the nonlinearities quite well, followed by the Logistic Regression guards and Support Vector Machine guards. While for Goods fine or damaged, Standard Rejection or Approval, Request Manager or Standard Approval and what happens if good are fine are quite good, all four techniques only have mediocre performance scores measures using F1-score for Manager Rejection or Approval and what happens after Receive Invoice as seen in the comparision plots.\n"
   ]
  }
 ],
 "metadata": {
  "kernelspec": {
   "display_name": "Python 3.10.4 64-bit",
   "language": "python",
   "name": "python3"
  },
  "language_info": {
   "codemirror_mode": {
    "name": "ipython",
    "version": 3
   },
   "file_extension": ".py",
   "mimetype": "text/x-python",
   "name": "python",
   "nbconvert_exporter": "python",
   "pygments_lexer": "ipython3",
   "version": "3.10.4"
  },
  "orig_nbformat": 4,
  "vscode": {
   "interpreter": {
    "hash": "a865a9a6dc066b9b086b6113af50d5556f0683d5160aa9e6a06c9fc078961965"
   }
  }
 },
 "nbformat": 4,
 "nbformat_minor": 2
}
