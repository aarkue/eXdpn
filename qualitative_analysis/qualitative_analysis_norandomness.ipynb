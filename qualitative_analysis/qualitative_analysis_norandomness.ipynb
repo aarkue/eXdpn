{
 "cells": [
  {
   "cell_type": "markdown",
   "metadata": {},
   "source": [
    "## Qualitative Analysis for Event Log without Randomness"
   ]
  },
  {
   "cell_type": "markdown",
   "metadata": {},
   "source": [
    "Implemented decision points with guards:\n",
    "\n",
    "- Request Manager or Standard Approval:\n",
    "    - Request Manager Approval if total_price >= 800\n",
    "    - Request Standard Approval otherwise\n",
    "- Manager Rejection or Approval:\n",
    "    - Manager Rejection if \"unprofessional\" items are being bought, i.e., \"RECARO Exo Gaming Stuhl\" or \"Ducky One 3 Matcha TKL\"\n",
    "    - Manager Approval otherwise\n",
    "- Standard Rejection or Approval:\n",
    "    - Standard Rejection if item_category is \"Fun\" or if the Supplier is \"Scamming Corp.\"\n",
    "    - Standard Approval otherwise"
   ]
  },
  {
   "cell_type": "code",
   "execution_count": null,
   "metadata": {},
   "outputs": [],
   "source": [
    "import os\n",
    "from exdpn.util import import_log\n",
    "from exdpn.data_petri_net import data_petri_net\n",
    "from exdpn.guards import ML_Technique"
   ]
  },
  {
   "cell_type": "markdown",
   "metadata": {},
   "source": [
    "#### First, look which machine learning guard has the highest performance for a decision point."
   ]
  },
  {
   "cell_type": "code",
   "execution_count": null,
   "metadata": {},
   "outputs": [],
   "source": [
    "event_log_no_randomness = import_log(os.path.join(os.getcwd(), '..', 'datasets', 'p2p_base_no_randomness.xes'))\n",
    "dpn_no_randomness = data_petri_net.Data_Petri_Net(event_log = event_log_no_randomness, \n",
    "                                                  event_level_attributes = ['item_category','item_id','item_amount','supplier','total_price'],\n",
    "                                                  verbose = False)\n",
    "\n",
    "decision_points = list(dpn_no_randomness.decision_points)\n",
    "decision_points"
   ]
  },
  {
   "cell_type": "code",
   "execution_count": null,
   "metadata": {},
   "outputs": [],
   "source": [
    "print(\"Decision point: \", decision_points[0])\n",
    "dpn_no_randomness.guard_manager_per_place[decision_points[0]].get_comparison_plot()\n",
    "best_guard = dpn_no_randomness.get_guard_at_place(decision_points[0])\n",
    "print(\"Best guard:\", best_guard)"
   ]
  },
  {
   "cell_type": "code",
   "execution_count": null,
   "metadata": {},
   "outputs": [],
   "source": [
    "print(\"Decision point: \", decision_points[1])\n",
    "dpn_no_randomness.guard_manager_per_place[decision_points[1]].get_comparison_plot()\n",
    "best_guard = dpn_no_randomness.get_guard_at_place(decision_points[1])\n",
    "print(\"Best guard:\", best_guard)"
   ]
  },
  {
   "cell_type": "code",
   "execution_count": null,
   "metadata": {},
   "outputs": [],
   "source": [
    "print(\"Decision point: \", decision_points[2])\n",
    "dpn_no_randomness.guard_manager_per_place[decision_points[2]].get_comparison_plot()\n",
    "best_guard = dpn_no_randomness.get_guard_at_place(decision_points[2])\n",
    "print(\"Best guard:\", best_guard)"
   ]
  },
  {
   "cell_type": "markdown",
   "metadata": {},
   "source": [
    "### Decision Tree"
   ]
  },
  {
   "cell_type": "code",
   "execution_count": null,
   "metadata": {},
   "outputs": [],
   "source": [
    "print(\"Decision point: \", decision_points[0])\n",
    "dt_guard = dpn_no_randomness.guard_manager_per_place[decision_points[0]].guards_list[ML_Technique.DT]\n",
    "if dt_guard.is_explainable():\n",
    "    dt_guard.get_explainable_representation()"
   ]
  },
  {
   "cell_type": "code",
   "execution_count": null,
   "metadata": {},
   "outputs": [],
   "source": [
    "print(\"Decision point: \", decision_points[1])\n",
    "dt_guard = dpn_no_randomness.guard_manager_per_place[decision_points[1]].guards_list[ML_Technique.DT]\n",
    "if dt_guard.is_explainable():\n",
    "    dt_guard.get_explainable_representation()"
   ]
  },
  {
   "cell_type": "code",
   "execution_count": null,
   "metadata": {},
   "outputs": [],
   "source": [
    "print(\"Decision point: \", decision_points[2])\n",
    "dt_guard = dpn_no_randomness.guard_manager_per_place[decision_points[2]].guards_list[ML_Technique.DT]\n",
    "if dt_guard.is_explainable():\n",
    "    dt_guard.get_explainable_representation()"
   ]
  },
  {
   "cell_type": "markdown",
   "metadata": {},
   "source": [
    "### Neural Network"
   ]
  },
  {
   "cell_type": "code",
   "execution_count": null,
   "metadata": {},
   "outputs": [],
   "source": [
    "print(\"Decision point: \", decision_points[0])\n",
    "nn_guard = dpn_no_randomness.guard_manager_per_place[decision_points[0]].guards_list[ML_Technique.NN]\n",
    "if nn_guard.is_explainable():\n",
    "    # use sample of test data to speed up computation of explainable representation\n",
    "    sampled_test_data = dpn_no_randomness.guard_manager_per_place[decision_points[0]].X_test.sample(n = min(100, len(dpn_no_randomness.guard_manager_per_place[decision_points[0]].X_test)))\n",
    "    nn_guard.get_explainable_representation(sampled_test_data)"
   ]
  },
  {
   "cell_type": "code",
   "execution_count": null,
   "metadata": {},
   "outputs": [],
   "source": [
    "print(\"Decision point: \", decision_points[1])\n",
    "nn_guard = dpn_no_randomness.guard_manager_per_place[decision_points[1]].guards_list[ML_Technique.NN]\n",
    "if nn_guard.is_explainable():\n",
    "    # use sample of test data to speed up computation of explainable representation\n",
    "    sampled_test_data = dpn_no_randomness.guard_manager_per_place[decision_points[1]].X_test.sample(n = min(100, len(dpn_no_randomness.guard_manager_per_place[decision_points[1]].X_test)))\n",
    "    nn_guard.get_explainable_representation(sampled_test_data)"
   ]
  },
  {
   "cell_type": "code",
   "execution_count": null,
   "metadata": {},
   "outputs": [],
   "source": [
    "print(\"Decision point: \", decision_points[2])\n",
    "nn_guard = dpn_no_randomness.guard_manager_per_place[decision_points[2]].guards_list[ML_Technique.NN]\n",
    "if nn_guard.is_explainable():\n",
    "    # use sample of test data to speed up computation of explainable representation\n",
    "    sampled_test_data = dpn_no_randomness.guard_manager_per_place[decision_points[2]].X_test.sample(n = min(100, len(dpn_no_randomness.guard_manager_per_place[decision_points[2]].X_test)))\n",
    "    nn_guard.get_explainable_representation(sampled_test_data)"
   ]
  },
  {
   "cell_type": "markdown",
   "metadata": {},
   "source": [
    "### Support Vector Machine"
   ]
  },
  {
   "cell_type": "code",
   "execution_count": null,
   "metadata": {},
   "outputs": [],
   "source": [
    "print(\"Decision point: \", decision_points[0])\n",
    "svm_guard = dpn_no_randomness.guard_manager_per_place[decision_points[0]].guards_list[ML_Technique.SVM]\n",
    "if svm_guard.is_explainable():\n",
    "    svm_guard.get_explainable_representation(dpn_no_randomness.guard_manager_per_place[decision_points[0]].X_test)"
   ]
  },
  {
   "cell_type": "code",
   "execution_count": null,
   "metadata": {},
   "outputs": [],
   "source": [
    "print(\"Decision point: \", decision_points[1])\n",
    "svm_guard = dpn_no_randomness.guard_manager_per_place[decision_points[1]].guards_list[ML_Technique.SVM]\n",
    "if svm_guard.is_explainable():\n",
    "    svm_guard.get_explainable_representation(dpn_no_randomness.guard_manager_per_place[decision_points[1]].X_test)"
   ]
  },
  {
   "cell_type": "code",
   "execution_count": null,
   "metadata": {},
   "outputs": [],
   "source": [
    "print(\"Decision point: \", decision_points[2])\n",
    "svm_guard = dpn_no_randomness.guard_manager_per_place[decision_points[2]].guards_list[ML_Technique.SVM]\n",
    "if svm_guard.is_explainable():\n",
    "    svm_guard.get_explainable_representation(dpn_no_randomness.guard_manager_per_place[decision_points[2]].X_test)"
   ]
  },
  {
   "cell_type": "markdown",
   "metadata": {},
   "source": [
    "### Logistic Regression"
   ]
  },
  {
   "cell_type": "code",
   "execution_count": null,
   "metadata": {},
   "outputs": [],
   "source": [
    "print(\"Decision point: \", decision_points[0])\n",
    "lr_guard = dpn_no_randomness.guard_manager_per_place[decision_points[0]].guards_list[ML_Technique.LR]\n",
    "if lr_guard.is_explainable():\n",
    "    lr_guard.get_explainable_representation(dpn_no_randomness.guard_manager_per_place[decision_points[0]].X_test)"
   ]
  },
  {
   "cell_type": "code",
   "execution_count": null,
   "metadata": {},
   "outputs": [],
   "source": [
    "print(\"Decision point: \", decision_points[1])\n",
    "lr_guard = dpn_no_randomness.guard_manager_per_place[decision_points[1]].guards_list[ML_Technique.LR]\n",
    "if lr_guard.is_explainable():\n",
    "    lr_guard.get_explainable_representation(dpn_no_randomness.guard_manager_per_place[decision_points[1]].X_test)"
   ]
  },
  {
   "cell_type": "code",
   "execution_count": null,
   "metadata": {},
   "outputs": [],
   "source": [
    "print(\"Decision point: \", decision_points[2])\n",
    "lr_guard = dpn_no_randomness.guard_manager_per_place[decision_points[2]].guards_list[ML_Technique.LR]\n",
    "if lr_guard.is_explainable():\n",
    "    lr_guard.get_explainable_representation(dpn_no_randomness.guard_manager_per_place[decision_points[2]].X_test)"
   ]
  },
  {
   "cell_type": "markdown",
   "metadata": {},
   "source": [
    "### Summary Event Log without Randomness: - needs to be update when implementations are all done -\n",
    "\n",
    "- Request Manager or Standard Approval:  \n",
    "Only Decision Tree models true guard behavior, that is samples with a total_price <= 769 are predicted \"Request Manager Approval\" or \"Request Standard Approval\" else. The other machine learning techniques only pick up random noise or feature attributes which are likely to be correlated with total_price, like item amount.\n",
    "\n",
    "- Manager Rejection or Approval:  \n",
    "While the Decision Tree guard does not capture the true underlying guard, for the three remaining machine learning techniques the features used in the true guard (that is item_id either \"RECARO Exo Gaming Stuhl\" or \"Ducky One 3 Matcha TKL\") have a huge impact on the model prediction, although not necessarily the highest impact.\n",
    "\n",
    "- Standard Rejection or Approval:  \n",
    "All machine learning techniques use the feature attributes used in the guard to make their predictions and therefore, model the true underlying guard.\n",
    "\n",
    "Overall, all machine learning techniques model the true underlying guards quite accurate. Eventhough, sometimes feature attributes that are likely to be correlated with the feature attribute used in the true guard are used insteat of the acutal feature attribute. Nevertheless all four machine learning guards achieve high performance scores measures using F1-score as seen in the comparision plots.\n"
   ]
  }
 ],
 "metadata": {
  "kernelspec": {
   "display_name": "Python 3.10.4 64-bit",
   "language": "python",
   "name": "python3"
  },
  "language_info": {
   "codemirror_mode": {
    "name": "ipython",
    "version": 3
   },
   "file_extension": ".py",
   "mimetype": "text/x-python",
   "name": "python",
   "nbconvert_exporter": "python",
   "pygments_lexer": "ipython3",
   "version": "3.10.4"
  },
  "orig_nbformat": 4,
  "vscode": {
   "interpreter": {
    "hash": "a865a9a6dc066b9b086b6113af50d5556f0683d5160aa9e6a06c9fc078961965"
   }
  }
 },
 "nbformat": 4,
 "nbformat_minor": 2
}
