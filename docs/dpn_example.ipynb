{
 "cells": [
  {
   "cell_type": "markdown",
   "metadata": {},
   "source": [
    "### Data Petri Net - Example for Explainable Representations"
   ]
  },
  {
   "cell_type": "markdown",
   "metadata": {},
   "source": [
    "The used p2p base event log has the following implemented decision points with guards:\n",
    "\n",
    "- Request Manager or Standard Approval:\n",
    "    - Request Manager Approval if total_price >= 800\n",
    "    - Request Standard Approval if total_price <= 1000\n",
    "- Manager Rejection or Approval:\n",
    "    - Manager Rejection if total_price >= 400 and random_exponential(100, 200) > 120\n",
    "    - Otherwise Manager Approval\n",
    "- Standard Rejection or Approval:\n",
    "    - Standard Rejection if total_price >= 400 and random_exponential(100, 200) > 120\n",
    "    - Otherwise Standard Approval"
   ]
  },
  {
   "cell_type": "code",
   "execution_count": null,
   "metadata": {},
   "outputs": [],
   "source": [
    "import os\n",
    "from exdpn.util import import_log\n",
    "from exdpn.data_petri_net import data_petri_net\n",
    "from exdpn.guards import ML_Technique"
   ]
  },
  {
   "cell_type": "markdown",
   "metadata": {},
   "source": [
    "#### First, create a Data Petri Net."
   ]
  },
  {
   "cell_type": "code",
   "execution_count": null,
   "metadata": {},
   "outputs": [],
   "source": [
    "event_log_base = import_log(os.path.join(os.getcwd(), \"..\", 'datasets', 'p2p_base.xes'))\n",
    "dpn_base = data_petri_net.Data_Petri_Net(event_log = event_log_base, \n",
    "                                                  event_level_attributes = ['item_category','item_id','item_amount','supplier','total_price'],\n",
    "                                                  verbose = False)"
   ]
  },
  {
   "cell_type": "markdown",
   "metadata": {},
   "source": [
    "#### Closer look at the decision points."
   ]
  },
  {
   "cell_type": "code",
   "execution_count": null,
   "metadata": {},
   "outputs": [],
   "source": [
    "decision_point = list(dpn_base.decision_points)[0]\n",
    "decision_point "
   ]
  },
  {
   "cell_type": "markdown",
   "metadata": {},
   "source": [
    "#### Compare Performances of all machine learning techniques."
   ]
  },
  {
   "cell_type": "code",
   "execution_count": null,
   "metadata": {},
   "outputs": [],
   "source": [
    "dpn_base.guard_manager_per_place[decision_point].get_comparison_plot()\n",
    "print(\"Best guard:\", dpn_base.get_guard_at_place(decision_point))"
   ]
  },
  {
   "cell_type": "markdown",
   "metadata": {},
   "source": [
    "#### Now get explainable representations of all machine learing guards at that decision point."
   ]
  },
  {
   "cell_type": "code",
   "execution_count": null,
   "metadata": {},
   "outputs": [],
   "source": [
    "dt_guard = dpn_base.guard_manager_per_place[decision_point].guards_list[ML_Technique.DT]\n",
    "if dt_guard.is_explainable():\n",
    "    print(\"Decision Tree\")\n",
    "    dt_guard.get_explainable_representation()"
   ]
  },
  {
   "cell_type": "code",
   "execution_count": null,
   "metadata": {},
   "outputs": [],
   "source": [
    "svm_guard = dpn_base.guard_manager_per_place[decision_point].guards_list[ML_Technique.SVM]\n",
    "if svm_guard.is_explainable():\n",
    "    print(\"Support Vector Machine\")\n",
    "    svm_guard.get_explainable_representation(dpn_base.guard_manager_per_place[decision_point].X_test)"
   ]
  },
  {
   "cell_type": "code",
   "execution_count": null,
   "metadata": {},
   "outputs": [],
   "source": [
    "nn_guard = dpn_base.guard_manager_per_place[decision_point].guards_list[ML_Technique.NN]\n",
    "if nn_guard.is_explainable():\n",
    "    print(\"Neural Network\")\n",
    "    # use sample of test data to speed up computation of explainable representation\n",
    "    sampled_test_data = dpn_base.guard_manager_per_place[decision_point].X_test.sample(n = min(100, len(dpn_base.guard_manager_per_place[decision_point].X_test)))\n",
    "    nn_guard.get_explainable_representation(sampled_test_data)"
   ]
  },
  {
   "cell_type": "code",
   "execution_count": null,
   "metadata": {},
   "outputs": [],
   "source": [
    "lr_guard = dpn_base.guard_manager_per_place[decision_point].guards_list[ML_Technique.LR]\n",
    "if lr_guard.is_explainable():\n",
    "    print(\"Logistic Regression\")\n",
    "    lr_guard.get_explainable_representation(dpn_base.guard_manager_per_place[decision_point].X_test)"
   ]
  }
 ],
 "metadata": {
  "kernelspec": {
   "display_name": "Python 3.10.4 64-bit",
   "language": "python",
   "name": "python3"
  },
  "language_info": {
   "codemirror_mode": {
    "name": "ipython",
    "version": 3
   },
   "file_extension": ".py",
   "mimetype": "text/x-python",
   "name": "python",
   "nbconvert_exporter": "python",
   "pygments_lexer": "ipython3",
   "version": "3.10.4"
  },
  "orig_nbformat": 4,
  "vscode": {
   "interpreter": {
    "hash": "a865a9a6dc066b9b086b6113af50d5556f0683d5160aa9e6a06c9fc078961965"
   }
  }
 },
 "nbformat": 4,
 "nbformat_minor": 2
}
