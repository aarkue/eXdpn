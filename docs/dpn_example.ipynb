{
 "cells": [
  {
   "cell_type": "markdown",
   "metadata": {},
   "source": [
    "### Data Petri Net - Example for Explainable Representations"
   ]
  },
  {
   "cell_type": "markdown",
   "metadata": {},
   "source": [
    "The used p2p base event log has the following implemented decision points with guards:\n",
    "\n",
    "- Request Manager or Standard Approval:\n",
    "    - Request Manager Approval if total_price >= 800\n",
    "    - Request Standard Approval if total_price <= 1000\n",
    "- Manager Rejection or Approval:\n",
    "    - Manager Rejection if total_price >= 400 and random_exponential(100, 200) > 100\n",
    "    - Otherwise Manager Approval\n",
    "- Standard Rejection or Approval:\n",
    "    - Standard Rejection if total_price >= 400 and random_exponential(100, 200) > 100\n",
    "    - Otherwise Standard Approval"
   ]
  },
  {
   "cell_type": "code",
   "execution_count": 1,
   "metadata": {},
   "outputs": [
    {
     "ename": "ImportError",
     "evalue": "cannot import name 'import_log' from 'exdpn.util' (unknown location)",
     "output_type": "error",
     "traceback": [
      "\u001b[1;31m---------------------------------------------------------------------------\u001b[0m",
      "\u001b[1;31mImportError\u001b[0m                               Traceback (most recent call last)",
      "\u001b[1;32mc:\\Users\\Mara Tews\\Documents\\Uni\\RWTH_DataScience\\SS_2022\\SS2022_ProcessDiscoveryUsingPython\\eXdpn\\docs\\dpn_example.ipynb Cell 3'\u001b[0m in \u001b[0;36m<cell line: 2>\u001b[1;34m()\u001b[0m\n\u001b[0;32m      <a href='vscode-notebook-cell:/c%3A/Users/Mara%20Tews/Documents/Uni/RWTH_DataScience/SS_2022/SS2022_ProcessDiscoveryUsingPython/eXdpn/docs/dpn_example.ipynb#ch0000002?line=0'>1</a>\u001b[0m \u001b[39mimport\u001b[39;00m \u001b[39mos\u001b[39;00m\n\u001b[1;32m----> <a href='vscode-notebook-cell:/c%3A/Users/Mara%20Tews/Documents/Uni/RWTH_DataScience/SS_2022/SS2022_ProcessDiscoveryUsingPython/eXdpn/docs/dpn_example.ipynb#ch0000002?line=1'>2</a>\u001b[0m \u001b[39mfrom\u001b[39;00m \u001b[39mexdpn\u001b[39;00m\u001b[39m.\u001b[39;00m\u001b[39mutil\u001b[39;00m \u001b[39mimport\u001b[39;00m import_log\n\u001b[0;32m      <a href='vscode-notebook-cell:/c%3A/Users/Mara%20Tews/Documents/Uni/RWTH_DataScience/SS_2022/SS2022_ProcessDiscoveryUsingPython/eXdpn/docs/dpn_example.ipynb#ch0000002?line=2'>3</a>\u001b[0m \u001b[39mfrom\u001b[39;00m \u001b[39mexdpn\u001b[39;00m\u001b[39m.\u001b[39;00m\u001b[39mdata_petri_net\u001b[39;00m \u001b[39mimport\u001b[39;00m data_petri_net\n\u001b[0;32m      <a href='vscode-notebook-cell:/c%3A/Users/Mara%20Tews/Documents/Uni/RWTH_DataScience/SS_2022/SS2022_ProcessDiscoveryUsingPython/eXdpn/docs/dpn_example.ipynb#ch0000002?line=3'>4</a>\u001b[0m \u001b[39mfrom\u001b[39;00m \u001b[39mexdpn\u001b[39;00m\u001b[39m.\u001b[39;00m\u001b[39mguards\u001b[39;00m \u001b[39mimport\u001b[39;00m ML_Technique\n",
      "\u001b[1;31mImportError\u001b[0m: cannot import name 'import_log' from 'exdpn.util' (unknown location)"
     ]
    }
   ],
   "source": [
    "import os\n",
    "from exdpn.util import import_log\n",
    "from exdpn.data_petri_net import data_petri_net\n",
    "from exdpn.guards import ML_Technique\n",
    "import matplotlib.pyplot as plt "
   ]
  },
  {
   "cell_type": "markdown",
   "metadata": {},
   "source": [
    "#### First, create a Data Petri Net."
   ]
  },
  {
   "cell_type": "code",
   "execution_count": null,
   "metadata": {},
   "outputs": [],
   "source": [
    "event_log_base = import_log(os.path.join(os.getcwd(), \"..\", 'datasets', 'p2p_base.xes'))\n",
    "dpn_base = data_petri_net.Data_Petri_Net(event_log = event_log_base, \n",
    "                                         event_level_attributes = ['item_category','item_id','item_amount','supplier','total_price'],\n",
    "                                         verbose = False)"
   ]
  },
  {
   "cell_type": "markdown",
   "metadata": {},
   "source": [
    "#### Closer look at the decision points."
   ]
  },
  {
   "cell_type": "code",
   "execution_count": null,
   "metadata": {},
   "outputs": [],
   "source": [
    "decision_points = list(dpn_base.decision_points)\n",
    "decision_points"
   ]
  },
  {
   "cell_type": "markdown",
   "metadata": {},
   "source": [
    "#### Select one decision point for the further anaylsis."
   ]
  },
  {
   "cell_type": "code",
   "execution_count": null,
   "metadata": {},
   "outputs": [],
   "source": [
    "# create dictionary to map place names to actual places\n",
    "place_names = {dp.name.split(\", {\")[0]+\")\": dp.name for dp in decision_points}\n",
    "place_dict = {name: dp for dp in decision_points for name in place_names if place_names[name] == dp.name} \n",
    "# select a certrain decision point and the corresponding data set \n",
    "decision_point = place_dict[\"({'create purchase order'})\"]\n",
    "decision_point"
   ]
  },
  {
   "cell_type": "markdown",
   "metadata": {},
   "source": [
    "#### Compare Performances of all machine learning techniques."
   ]
  },
  {
   "cell_type": "code",
   "execution_count": null,
   "metadata": {},
   "outputs": [],
   "source": [
    "comparision_plot = dpn_base.guard_manager_per_place[decision_point].get_comparison_plot()\n",
    "print(\"Best guard:\", dpn_base.get_guard_at_place(decision_point))"
   ]
  },
  {
   "cell_type": "markdown",
   "metadata": {},
   "source": [
    "#### Now get explainable representations of all machine learing guards at that decision point."
   ]
  },
  {
   "cell_type": "code",
   "execution_count": null,
   "metadata": {},
   "outputs": [],
   "source": [
    "dt_guard = dpn_base.guard_manager_per_place[decision_point].guards_list[ML_Technique.DT]\n",
    "if dt_guard.is_explainable():\n",
    "    print(\"Decision Tree\")\n",
    "    dt_explainable_representation = dt_guard.get_explainable_representation()"
   ]
  },
  {
   "cell_type": "code",
   "execution_count": null,
   "metadata": {},
   "outputs": [],
   "source": [
    "svm_guard = dpn_base.guard_manager_per_place[decision_point].guards_list[ML_Technique.SVM]\n",
    "if svm_guard.is_explainable():\n",
    "    print(\"Support Vector Machine\")\n",
    "    svm_guard.get_explainable_representation(dpn_base.guard_manager_per_place[decision_point].X_test)"
   ]
  },
  {
   "cell_type": "code",
   "execution_count": null,
   "metadata": {},
   "outputs": [],
   "source": [
    "nn_guard = dpn_base.guard_manager_per_place[decision_point].guards_list[ML_Technique.NN]\n",
    "if nn_guard.is_explainable():\n",
    "    print(\"Neural Network\")\n",
    "    # use sample of test data to speed up computation of explainable representation\n",
    "    sampled_test_data = dpn_base.guard_manager_per_place[decision_point].X_test.sample(n = min(100, len(dpn_base.guard_manager_per_place[decision_point].X_test)))\n",
    "    nn_guard.get_explainable_representation(sampled_test_data)"
   ]
  },
  {
   "cell_type": "code",
   "execution_count": null,
   "metadata": {},
   "outputs": [],
   "source": [
    "lr_guard = dpn_base.guard_manager_per_place[decision_point].guards_list[ML_Technique.LR]\n",
    "if lr_guard.is_explainable():\n",
    "    print(\"Logistic Regression\")\n",
    "    lr_guard.get_explainable_representation(dpn_base.guard_manager_per_place[decision_point].X_test)"
   ]
  }
 ],
 "metadata": {
  "kernelspec": {
   "display_name": "Python 3.10.4 64-bit",
   "language": "python",
   "name": "python3"
  },
  "language_info": {
   "codemirror_mode": {
    "name": "ipython",
    "version": 3
   },
   "file_extension": ".py",
   "mimetype": "text/x-python",
   "name": "python",
   "nbconvert_exporter": "python",
   "pygments_lexer": "ipython3",
   "version": "3.10.4"
  },
  "orig_nbformat": 4,
  "vscode": {
   "interpreter": {
    "hash": "a865a9a6dc066b9b086b6113af50d5556f0683d5160aa9e6a06c9fc078961965"
   }
  }
 },
 "nbformat": 4,
 "nbformat_minor": 2
}
